{
 "cells": [
  {
   "cell_type": "code",
   "execution_count": 1,
   "id": "956b7dc6",
   "metadata": {},
   "outputs": [
    {
     "data": {
      "text/plain": [
       "True"
      ]
     },
     "execution_count": 1,
     "metadata": {},
     "output_type": "execute_result"
    }
   ],
   "source": [
    "import os\n",
    "from dotenv import load_dotenv\n",
    "load_dotenv()"
   ]
  },
  {
   "cell_type": "code",
   "execution_count": 2,
   "id": "4f9d4913",
   "metadata": {},
   "outputs": [
    {
     "name": "stdout",
     "output_type": "stream",
     "text": [
      "/Users/sumi/Desktop/SpectraRAG/Notebooks\n"
     ]
    }
   ],
   "source": [
    "# View current working directory\n",
    "!pwd"
   ]
  },
  {
   "cell_type": "code",
   "execution_count": 3,
   "id": "b566d685",
   "metadata": {},
   "outputs": [
    {
     "name": "stdout",
     "output_type": "stream",
     "text": [
      "/Users/sumi/Desktop/SpectraRAG\n"
     ]
    }
   ],
   "source": [
    "# Change to the parent directory\n",
    "os.chdir('../')\n",
    "!pwd"
   ]
  },
  {
   "cell_type": "code",
   "execution_count": null,
   "id": "916498b7",
   "metadata": {},
   "outputs": [],
   "source": [
    "# Load environment variables\n",
    "os.environ[\"GEMINI_API_KEY\"] = os.getenv('GOOGLE_API_KEY')\n"
   ]
  },
  {
   "cell_type": "code",
   "execution_count": 5,
   "id": "3b32951f",
   "metadata": {},
   "outputs": [
    {
     "data": {
      "text/plain": [
       "'Hi there! How can I help you today?'"
      ]
     },
     "execution_count": 5,
     "metadata": {},
     "output_type": "execute_result"
    }
   ],
   "source": [
    "# Test the LLM\n",
    "from langchain_google_genai import ChatGoogleGenerativeAI\n",
    "\n",
    "llm=ChatGoogleGenerativeAI(model=\"gemini-2.0-flash\")\n",
    "response=llm.invoke(\"Hi!\")\n",
    "response.content"
   ]
  },
  {
   "cell_type": "code",
   "execution_count": 6,
   "id": "3da19cab",
   "metadata": {},
   "outputs": [],
   "source": [
    "# Define the state schema\n",
    "from pydantic import BaseModel, Field\n",
    "from operator import add\n",
    "from typing import TypedDict,Optional, Any, Annotated, List, Dict\n",
    "from langchain.schema import Document\n",
    "\n",
    "\n",
    "from pydantic import BaseModel\n",
    "\n",
    "class BaseVectorDBState(BaseModel):\n",
    "    vector_db_path: str\n",
    "    vector_db_ready: bool = False\n",
    "\n",
    "class EmbederState(BaseVectorDBState):\n",
    "    file_path: str\n",
    "    file_exists: bool = False\n",
    "    documents: list[Document] = []\n",
    "\n",
    "class RetrieverState(BaseVectorDBState):\n",
    "    retriever_path: str\n",
    "    retriever_ready: bool = False\n",
    "    query: str\n",
    "    results: list = []\n",
    "\n",
    "\n",
    "# MCP Input/Output schemas\n",
    "class EmbedderInput(TypedDict):\n",
    "    file_path: str\n",
    "    vector_db_path: str\n",
    "\n",
    "class EmbedderOutput(TypedDict):\n",
    "    success: bool\n",
    "    message: str\n",
    "    "
   ]
  },
  {
   "cell_type": "code",
   "execution_count": 7,
   "id": "796f600f",
   "metadata": {},
   "outputs": [],
   "source": [
    "# Check if file exists\n",
    "def check_file_exists(state: EmbederState)-> EmbederState:\n",
    "    \"\"\"Check if the file exists in the specified path.\"\"\"\n",
    "    path=state.file_path\n",
    "    state.file_exists=os.path.exists(path)\n",
    "    return state"
   ]
  },
  {
   "cell_type": "markdown",
   "id": "7265a877",
   "metadata": {},
   "source": [
    "**NOTE:**\n",
    "In this project I'm using Landing AI's `Agentic Document Extraction(ADE)` is a foundation model-assisted document extraction system designed to intelligently parse unstructured or semi-structured documents using task-specific agents. Unlike PyPDFLoader or PDFPlumberLoader, which primarily extract raw or semi-structured data from PDFs, ADE uses LLMs to understand and extract structured data with reasoning.\n",
    "\n",
    "ADE is ideal for extracting information like:\n",
    "- Invoices, receipts, and forms\n",
    "- Contracts or legal documents\n",
    "- Financial reports\n",
    "- Medical records or lab reports\n",
    "\n",
    "However It might be `bit slower` than the usual PDFLoaders. \n",
    "Explore it Here: [ADE](https://github.com/landing-ai/agentic-doc)"
   ]
  },
  {
   "cell_type": "code",
   "execution_count": 8,
   "id": "c88020d1",
   "metadata": {},
   "outputs": [
    {
     "name": "stdout",
     "output_type": "stream",
     "text": [
      "\u001b[2m2025-07-22 18:50:40\u001b[0m [info   \u001b[0m] \u001b[1mSettings loaded: {\n",
      "  \"endpoint_host\": \"https://api.va.landing.ai\",\n",
      "  \"vision_agent_api_key\": \"ajhtO[REDACTED]\",\n",
      "  \"batch_size\": 4,\n",
      "  \"max_workers\": 5,\n",
      "  \"max_retries\": 100,\n",
      "  \"max_retry_wait_time\": 60,\n",
      "  \"retry_logging_style\": \"log_msg\",\n",
      "  \"pdf_to_image_dpi\": 96,\n",
      "  \"split_size\": 10,\n",
      "  \"extraction_split_size\": 50\n",
      "}\u001b[0m [\u001b[0m\u001b[1m\u001b[34magentic_doc.config\u001b[0m]\u001b[0m (config.py:170)\n",
      "\u001b[2m2025-07-22 18:50:41\u001b[0m [info   \u001b[0m] \u001b[1mAPI key is valid.             \u001b[0m [\u001b[0m\u001b[1m\u001b[34magentic_doc.utils\u001b[0m]\u001b[0m (utils.py:42)\n",
      "\u001b[2m2025-07-22 18:50:41\u001b[0m [info   \u001b[0m] \u001b[1mParsing 1 documents           \u001b[0m [\u001b[0m\u001b[1m\u001b[34magentic_doc.parse\u001b[0m]\u001b[0m (parse.py:280)\n",
      "\u001b[2m2025-07-22 18:50:41\u001b[0m [info   \u001b[0m] \u001b[1mSplitting PDF: 'temp/Coding-Round-Task.pdf' into 0 parts under '/var/folders/vm/62zyvxyx70qb5rrghd3vfnx80000gn/T/tmpkc7vvw44'\u001b[0m [\u001b[0m\u001b[1m\u001b[34magentic_doc.utils\u001b[0m]\u001b[0m (utils.py:236)\n"
     ]
    },
    {
     "name": "stderr",
     "output_type": "stream",
     "text": [
      "Parsing documents:   0%|          | 0/1 [00:00<?, ?it/s]"
     ]
    },
    {
     "name": "stdout",
     "output_type": "stream",
     "text": [
      "\u001b[2m2025-07-22 18:50:41\u001b[0m [info   \u001b[0m] \u001b[1mCreated /var/folders/vm/62zyvxyx70qb5rrghd3vfnx80000gn/T/tmpkc7vvw44/Coding-Round-Task_1.pdf\u001b[0m [\u001b[0m\u001b[1m\u001b[34magentic_doc.utils\u001b[0m]\u001b[0m (utils.py:252)\n",
      "\u001b[2m2025-07-22 18:50:41\u001b[0m [info   \u001b[0m] \u001b[1mStart parsing document part: 'File name: Coding-Round-Task_1.pdf\tPage: [0:2]'\u001b[0m [\u001b[0m\u001b[1m\u001b[34magentic_doc.parse\u001b[0m]\u001b[0m (parse.py:670)\n"
     ]
    },
    {
     "name": "stderr",
     "output_type": "stream",
     "text": []
    },
    {
     "name": "stdout",
     "output_type": "stream",
     "text": [
      "HTTP Request: POST https://api.va.landing.ai/v1/tools/agentic-document-analysis \"HTTP/1.1 200 OK\" (_client.py:1025)\n",
      "\u001b[2m2025-07-22 18:50:51\u001b[0m [info   \u001b[0m] \u001b[1mTime taken to successfully parse a document chunk: 9.45 seconds\u001b[0m [\u001b[0m\u001b[1m\u001b[34magentic_doc.parse\u001b[0m]\u001b[0m (parse.py:823)\n",
      "\u001b[2m2025-07-22 18:50:51\u001b[0m [info   \u001b[0m] \u001b[1mSuccessfully parsed document part: 'File name: Coding-Round-Task_1.pdf\tPage: [0:2]'\u001b[0m [\u001b[0m\u001b[1m\u001b[34magentic_doc.parse\u001b[0m]\u001b[0m (parse.py:679)\n"
     ]
    },
    {
     "name": "stderr",
     "output_type": "stream",
     "text": [
      "Parsing document parts from 'Coding-Round-Task.pdf': 100%|██████████| 1/1 [00:09<00:00,  9.45s/it]\n",
      "Parsing documents: 100%|██████████| 1/1 [00:09<00:00,  9.47s/it]"
     ]
    },
    {
     "name": "stdout",
     "output_type": "stream",
     "text": [
      "Coding Round Problem Statement <!-- text, from page 0 (l=0.110,t=0.118,r=0.402,b=0.143), with ID 6c405bbc-c111-4d0d-bea4-2e725186b814 -->\n",
      "\n",
      "Task Title:\n",
      "\n",
      "Agentic RAG Chatbot for Multi-Format Document QA using Model Context Protocol (MCP) <!-- text, from page 0 (l=0.110,t=0.153,r=0.839,b=0.228), with ID 95886015-903f-4250-96af-68e1bf62a892 -->\n",
      "\n",
      "Problem Statement:\n",
      "\n",
      "You are required to build an agent-based Retrieval-Augmented Generation (RAG) chatbot that can answer user questions using uploaded documents of various formats. Your architecture must follow an agentic structure and should incorporate Model Context Protocol (MCP) as the mechanism for communication between agents and/or agents ↔ LLMs. <!-- text, from page 0 (l=0.110,t=0.257,r=0.885,b=0.370), with ID 1bbbe58f-6b51-4e29-9cae-e43ab559d24f -->\n",
      "\n",
      "# Core Functional Requirements\n",
      "\n",
      "Your solution must:\n",
      "1. **Support Uploading & Parsing of Diverse Document Formats:**\n",
      "   - [x] PDF\n",
      "   - [x] PPTX\n",
      "   - [x] CSV\n",
      "   - [x] DOCX\n",
      "   - [x] TXT / Markdown\n",
      "2. **Agentic Architecture (minimum 3 agents):**\n",
      "   - IngestionAgent: Parses & preprocesses documents.\n",
      "   - RetrievalAgent: Handles embedding + semantic retrieval.\n",
      "   - LLMResponseAgent: Forms final LLM query using retrieved context and generates answer.\n",
      "3. **Use Model Context Protocol (MCP):**\n",
      "   - Each agent must send/receive messages using **structured MCP-like context objects**, such as:\n",
      "     {\n",
      "         \"sender\": \"RetrievalAgent\",\n",
      "         \"receiver\": \"LLMResponseAgent\",\n",
      "         \"type\": \"CONTEXT_RESPONSE\",\n",
      "         \"trace_id\": \"abc-123\",\n",
      "         \"payload\": {\n",
      "             \"top_chunks\": [\"...\", \"...\"],\n",
      "             \"query\": \"What are the KPIs?\"\n",
      "         }\n",
      "     } <!-- text, from page 0 (l=0.110,t=0.397,r=0.882,b=0.871), with ID 9c774df6-cd9f-46d2-ac2b-68044b622d54 -->\n",
      "\n",
      "- 4. **Vector Store + Embeddings**\n",
      "  - ◦ Use any embeddings (OpenAI, HuggingFace, etc.)\n",
      "  - ◦ Use a vector DB (FAISS, Chroma, etc.)\n",
      "- 5. **Chatbot Interface (UI)**\n",
      "  - ◦ Allow users to:\n",
      "    - ■ Upload documents\n",
      "    - ■ Ask multi-turn questions\n",
      "    - ■ View responses with source context\n",
      "  - ◦ Use any UI framework: Streamlit, React, Angular, Flask, etc. <!-- text, from page 1 (l=0.126,t=0.088,r=0.807,b=0.267), with ID 303f86ba-919b-4207-b6d0-98c4829d55d1 -->\n",
      "\n",
      "- • Deliverables\n",
      "  1. 📂 GitHub Repository\n",
      "    ◦ Include:\n",
      "      - • Well-organized code\n",
      "      - • Clear README.md with setup instructions\n",
      "  2. 📊 PPT Presentation\n",
      "    ◦ Slide deck (3–6 slides) must include:\n",
      "      - • Agent-based architecture with MCP integration\n",
      "      - • System flow diagram (with message passing)\n",
      "      - • Tech stack used\n",
      "      - • 🖼️ UI screenshots of working app\n",
      "      - • Challenges Faced while doing the project\n",
      "      - • (Optional) future scope / improvements\n",
      "  3. 🔗 Submission\n",
      "    ◦ Share:\n",
      "      - • Public GitHub repository link\n",
      "      - • Architecture PPT (PDF or PPTX) [ To be included in the GitRepo Itself]\n",
      "      - • Include a Video for 5 mins where 1 min give the application demo, 2 min architecture and flow explanation, 2 min code explanation. (Its optional to show face) <!-- text, from page 1 (l=0.111,t=0.293,r=0.857,b=0.669), with ID fc7ca524-0bcc-4264-9dab-eed2a371acb4 -->\n",
      "\n",
      "# 🧠 Sample Workflow (Message Passing with MCP)\n",
      "\n",
      "User uploads: sales_review.pdf, metrics.csv\n",
      "\n",
      "User: \"What KPIs were tracked in Q1?\"\n",
      "\n",
      "- ➡️ UI forwards to CoordinatorAgent\n",
      "- ➡️ Coordinator triggers:\n",
      "  - ◆ IngestionAgent → parses documents\n",
      "  - ◆ RetrievalAgent → finds relevant chunks\n",
      "  - ◆ LLMResponseAgent → formats prompt & calls LLM\n",
      "- ➡️ Chatbot shows answer + source chunks <!-- text, from page 1 (l=0.108,t=0.689,r=0.682,b=0.906), with ID d5fc7f14-8429-4a9d-94f6-a523752fc639 -->\n",
      "\n",
      "MCP message example:\n",
      "{\n",
      "  \"type\": \"RETRIEVAL_RESULT\",\n",
      "  \"sender\": \"RetrievalAgent\",\n",
      "  \"receiver\": \"LLMResponseAgent\",\n",
      "  \"trace_id\": \"rag-457\",\n",
      "  \"payload\": {\n",
      "    \"retrieved_context\": [\"slide 3: revenue up\", \"doc: Q1 summary...\"],\n",
      "    \"query\": \"What KPIs were tracked in Q1?\"\n",
      "  }\n",
      "} <!-- text, from page 2 (l=0.110,t=0.122,r=0.739,b=0.296), with ID c681c6b6-bdb5-4b75-9416-1ff4c4c81012 -->\n",
      "[Chunk(text='Coding Round Problem Statement', grounding=[ChunkGrounding(page=0, box=ChunkGroundingBox(l=0.10952433943748474, t=0.11795657128095627, r=0.4019765555858612, b=0.14291413128376007), image_path=None)], chunk_type=<ChunkType.text: 'text'>, chunk_id='6c405bbc-c111-4d0d-bea4-2e725186b814'), Chunk(text='Task Title:\\n\\nAgentic RAG Chatbot for Multi-Format Document QA using Model Context Protocol (MCP)', grounding=[ChunkGrounding(page=0, box=ChunkGroundingBox(l=0.10967996716499329, t=0.15330062806606293, r=0.83901047706604, b=0.22820045053958893), image_path=None)], chunk_type=<ChunkType.text: 'text'>, chunk_id='95886015-903f-4250-96af-68e1bf62a892'), Chunk(text='Problem Statement:\\n\\nYou are required to build an agent-based Retrieval-Augmented Generation (RAG) chatbot that can answer user questions using uploaded documents of various formats. Your architecture must follow an agentic structure and should incorporate Model Context Protocol (MCP) as the mechanism for communication between agents and/or agents ↔ LLMs.', grounding=[ChunkGrounding(page=0, box=ChunkGroundingBox(l=0.10958334803581238, t=0.25717049837112427, r=0.884779691696167, b=0.36997151374816895), image_path=None)], chunk_type=<ChunkType.text: 'text'>, chunk_id='1bbbe58f-6b51-4e29-9cae-e43ab559d24f'), Chunk(text='# Core Functional Requirements\\n\\nYour solution must:\\n1. **Support Uploading & Parsing of Diverse Document Formats:**\\n   - [x] PDF\\n   - [x] PPTX\\n   - [x] CSV\\n   - [x] DOCX\\n   - [x] TXT / Markdown\\n2. **Agentic Architecture (minimum 3 agents):**\\n   - IngestionAgent: Parses & preprocesses documents.\\n   - RetrievalAgent: Handles embedding + semantic retrieval.\\n   - LLMResponseAgent: Forms final LLM query using retrieved context and generates answer.\\n3. **Use Model Context Protocol (MCP):**\\n   - Each agent must send/receive messages using **structured MCP-like context objects**, such as:\\n     {\\n         \"sender\": \"RetrievalAgent\",\\n         \"receiver\": \"LLMResponseAgent\",\\n         \"type\": \"CONTEXT_RESPONSE\",\\n         \"trace_id\": \"abc-123\",\\n         \"payload\": {\\n             \"top_chunks\": [\"...\", \"...\"],\\n             \"query\": \"What are the KPIs?\"\\n         }\\n     }', grounding=[ChunkGrounding(page=0, box=ChunkGroundingBox(l=0.10996782779693604, t=0.39681002497673035, r=0.8816592693328857, b=0.8711831569671631), image_path=None)], chunk_type=<ChunkType.text: 'text'>, chunk_id='9c774df6-cd9f-46d2-ac2b-68044b622d54'), Chunk(text='- 4. **Vector Store + Embeddings**\\n  - ◦ Use any embeddings (OpenAI, HuggingFace, etc.)\\n  - ◦ Use a vector DB (FAISS, Chroma, etc.)\\n- 5. **Chatbot Interface (UI)**\\n  - ◦ Allow users to:\\n    - ■ Upload documents\\n    - ■ Ask multi-turn questions\\n    - ■ View responses with source context\\n  - ◦ Use any UI framework: Streamlit, React, Angular, Flask, etc.', grounding=[ChunkGrounding(page=1, box=ChunkGroundingBox(l=0.125649094581604, t=0.08808393776416779, r=0.807066798210144, b=0.2670862078666687), image_path=None)], chunk_type=<ChunkType.text: 'text'>, chunk_id='303f86ba-919b-4207-b6d0-98c4829d55d1'), Chunk(text='- • Deliverables\\n  1. 📂 GitHub Repository\\n    ◦ Include:\\n      - • Well-organized code\\n      - • Clear README.md with setup instructions\\n  2. 📊 PPT Presentation\\n    ◦ Slide deck (3–6 slides) must include:\\n      - • Agent-based architecture with MCP integration\\n      - • System flow diagram (with message passing)\\n      - • Tech stack used\\n      - • 🖼️ UI screenshots of working app\\n      - • Challenges Faced while doing the project\\n      - • (Optional) future scope / improvements\\n  3. 🔗 Submission\\n    ◦ Share:\\n      - • Public GitHub repository link\\n      - • Architecture PPT (PDF or PPTX) [ To be included in the GitRepo Itself]\\n      - • Include a Video for 5 mins where 1 min give the application demo, 2 min architecture and flow explanation, 2 min code explanation. (Its optional to show face)', grounding=[ChunkGrounding(page=1, box=ChunkGroundingBox(l=0.11051663756370544, t=0.2928006052970886, r=0.8569650650024414, b=0.668871283531189), image_path=None)], chunk_type=<ChunkType.text: 'text'>, chunk_id='fc7ca524-0bcc-4264-9dab-eed2a371acb4'), Chunk(text='# 🧠 Sample Workflow (Message Passing with MCP)\\n\\nUser uploads: sales_review.pdf, metrics.csv\\n\\nUser: \"What KPIs were tracked in Q1?\"\\n\\n- ➡️ UI forwards to CoordinatorAgent\\n- ➡️ Coordinator triggers:\\n  - ◆ IngestionAgent → parses documents\\n  - ◆ RetrievalAgent → finds relevant chunks\\n  - ◆ LLMResponseAgent → formats prompt & calls LLM\\n- ➡️ Chatbot shows answer + source chunks', grounding=[ChunkGrounding(page=1, box=ChunkGroundingBox(l=0.1079622209072113, t=0.6886308789253235, r=0.6824550628662109, b=0.9059231877326965), image_path=None)], chunk_type=<ChunkType.text: 'text'>, chunk_id='d5fc7f14-8429-4a9d-94f6-a523752fc639'), Chunk(text='MCP message example:\\n{\\n  \"type\": \"RETRIEVAL_RESULT\",\\n  \"sender\": \"RetrievalAgent\",\\n  \"receiver\": \"LLMResponseAgent\",\\n  \"trace_id\": \"rag-457\",\\n  \"payload\": {\\n    \"retrieved_context\": [\"slide 3: revenue up\", \"doc: Q1 summary...\"],\\n    \"query\": \"What KPIs were tracked in Q1?\"\\n  }\\n}', grounding=[ChunkGrounding(page=2, box=ChunkGroundingBox(l=0.10986524820327759, t=0.12221045792102814, r=0.7386538982391357, b=0.29592984914779663), image_path=None)], chunk_type=<ChunkType.text: 'text'>, chunk_id='c681c6b6-bdb5-4b75-9416-1ff4c4c81012')]\n"
     ]
    },
    {
     "name": "stderr",
     "output_type": "stream",
     "text": [
      "\n"
     ]
    }
   ],
   "source": [
    "####### TESTING THE ADE PARSER ######\n",
    "from agentic_doc.parse import parse\n",
    "\n",
    "# Parse a single PDF\n",
    "results = parse(\"temp/Coding-Round-Task.pdf\")\n",
    "doc = results[0]\n",
    "print(doc.markdown)\n",
    "print(doc.chunks)"
   ]
  },
  {
   "cell_type": "code",
   "execution_count": 9,
   "id": "95167219",
   "metadata": {},
   "outputs": [],
   "source": [
    "###### WRAPPING THE ADE WITH LANGCHAIN ######\n",
    "from langchain.docstore.document import Document\n",
    "from agentic_doc.parse import parse\n",
    "\n",
    "class ADELoader:\n",
    "    def __init__(self, file_path):\n",
    "        self.file_path = file_path\n",
    "    \n",
    "    def load(self)-> list[Document]:\n",
    "        results = parse(self.file_path)\n",
    "        docs = []\n",
    "        for res in results:\n",
    "            text = res.markdown\n",
    "            metadata = {\n",
    "                \"source\": self.file_path,\n",
    "                \"chunks\": len(res.chunks),\n",
    "            }\n",
    "            docs.append(Document(page_content=text, metadata=metadata))\n",
    "        return docs\n",
    "        \n",
    "        \n",
    "# Example usage:\n",
    "#loader= ADELoader(\"temp/Coding-Round-Task.pdf\")\n",
    "#docs = loader.load()\n",
    "#docs \n",
    "        "
   ]
  },
  {
   "cell_type": "markdown",
   "id": "2280e223",
   "metadata": {},
   "source": [
    "> Not utilizing the `ADE Loader` because of it's limited free-tier. And All are exhausted during development."
   ]
  },
  {
   "cell_type": "code",
   "execution_count": 10,
   "id": "c2aee14f",
   "metadata": {},
   "outputs": [],
   "source": [
    "from langchain_community.document_loaders import (PDFPlumberLoader, TextLoader, Docx2txtLoader, CSVLoader, \n",
    "                                                  UnstructuredPowerPointLoader)\n",
    "\n",
    "# Load documents\n",
    "def load_documents(state: EmbederState)-> EmbederState:\n",
    "    \"\"\"Load documents based on the file type.\"\"\"\n",
    "    if not state.file_exists:\n",
    "        raise FileNotFoundError(f\"File Not Found: {state.file_path}\")\n",
    "    path=state.file_path\n",
    "    ext=path.split('.')[-1].lower()\n",
    "    if ext==\"pdf\":\n",
    "        loader=PDFPlumberLoader(path)\n",
    "    elif ext==\"docx\":\n",
    "        loader=Docx2txtLoader(path)\n",
    "    elif ext in [\"txt\", \"md\", \"log\"]:\n",
    "        loader=TextLoader(path)\n",
    "    elif ext in [\"csv\"]:\n",
    "        loader=CSVLoader(path)\n",
    "    elif ext in [\"pptx\", \"ppt\"]:\n",
    "        loader=UnstructuredPowerPointLoader(path)\n",
    "    else:\n",
    "        raise ValueError(f\"Unsupported file type: {ext}\")\n",
    "    \n",
    "    docs=list(loader.load())\n",
    "    state.documents= docs\n",
    "    return state\n"
   ]
  },
  {
   "cell_type": "code",
   "execution_count": 11,
   "id": "63423cc3",
   "metadata": {},
   "outputs": [],
   "source": [
    "# Split documents into chunks\n",
    "from langchain.text_splitter import RecursiveCharacterTextSplitter\n",
    "\n",
    "def split_documents(state: EmbederState)-> EmbederState:\n",
    "    docs=state.documents\n",
    "    splitter = RecursiveCharacterTextSplitter(chunk_size=1000, chunk_overlap=200)\n",
    "    split_documents = splitter.split_documents(docs)\n",
    "    state.documents = split_documents\n",
    "    return state"
   ]
  },
  {
   "cell_type": "code",
   "execution_count": null,
   "id": "c26536d6",
   "metadata": {},
   "outputs": [],
   "source": [
    "# Embed documents and persist to vector database\n",
    "from langchain_google_genai import GoogleGenerativeAIEmbeddings\n",
    "from langchain_chroma import Chroma\n",
    "\n",
    "def embed_and_persist(state: EmbederState)-> EmbederState:\n",
    "    split_docs=state.documents\n",
    "    vector_db_path=state.vector_db_path\n",
    "    \n",
    "    embeddings = GoogleGenerativeAIEmbeddings(model=\"models/text-embedding-004\")\n",
    "    \n",
    "    # Create directory if it doesn't exist\n",
    "    os.makedirs(vector_db_path, exist_ok=True)\n",
    "    \n",
    "    vector_db=Chroma.from_documents(\n",
    "        documents=split_docs, \n",
    "        embedding=embeddings, \n",
    "        persist_directory=vector_db_path\n",
    "    )\n",
    "    state.vector_db_ready=True\n",
    "        \n",
    "    return state\n"
   ]
  },
  {
   "cell_type": "markdown",
   "id": "0efca1f3",
   "metadata": {},
   "source": [
    "**NOTE:**\n",
    "Here for testing purpose the vectorDB with local persistance is utilized. In production remote DB's like `Pinecone` will be utilized."
   ]
  },
  {
   "cell_type": "code",
   "execution_count": 13,
   "id": "4812857e",
   "metadata": {},
   "outputs": [],
   "source": [
    "# Finalize and return MCP output\n",
    "def finalize(state: EmbederState)-> EmbedderOutput:\n",
    "    if state.vector_db_ready:\n",
    "        return {\"success\": True, \"message\": \"VectorDB created successfully\"}\n",
    "    else:\n",
    "        return {\"success\": False, \"message\": \"VectorDB creation failed\"}\n"
   ]
  },
  {
   "cell_type": "code",
   "execution_count": 14,
   "id": "cea60ded",
   "metadata": {},
   "outputs": [
    {
     "data": {
      "image/png": "[encoded data removed]",
      "text/plain": [
       "<langgraph.graph.state.CompiledStateGraph object at 0x13096ab00>"
      ]
     },
     "execution_count": 14,
     "metadata": {},
     "output_type": "execute_result"
    }
   ],
   "source": [
    "# Create the Graph\n",
    "from langgraph.graph import StateGraph, START, END\n",
    "\n",
    "workflow = StateGraph(EmbederState, input_schema=EmbedderInput, output_schema=EmbedderOutput)\n",
    "\n",
    "workflow.add_node(\"check_exists\", check_file_exists)\n",
    "workflow.add_node(\"load_doc\", load_documents)\n",
    "workflow.add_node(\"split_doc\", split_documents)  # new splitting node\n",
    "workflow.add_node(\"embed_and_persist\", embed_and_persist)\n",
    "workflow.add_node(\"finalize\", finalize)\n",
    "\n",
    "workflow.add_edge(START, \"check_exists\")\n",
    "workflow.add_conditional_edges(\n",
    "    \"check_exists\",\n",
    "    lambda state: \"continue\" if state.file_exists else \"finalize\",\n",
    "    {\n",
    "        \"continue\": \"load_doc\",\n",
    "        \"finalize\": \"finalize\",\n",
    "    },\n",
    ")\n",
    "workflow.add_edge(\"load_doc\", \"split_doc\")  # split after loading\n",
    "workflow.add_edge(\"split_doc\", \"embed_and_persist\")\n",
    "workflow.add_edge(\"embed_and_persist\", \"finalize\")\n",
    "workflow.add_edge(\"finalize\", END)\n",
    "\n",
    "graph = workflow.compile()\n",
    "\n",
    "graph"
   ]
  },
  {
   "cell_type": "markdown",
   "id": "cf46e43f",
   "metadata": {},
   "source": [
    "## Testing the Graph on various file types"
   ]
  },
  {
   "cell_type": "code",
   "execution_count": 15,
   "id": "b69f499c",
   "metadata": {},
   "outputs": [
    {
     "name": "stdout",
     "output_type": "stream",
     "text": [
      "Could get FontBBox from font descriptor because None cannot be parsed as 4 floats (pdffont.py:967)\n",
      "Could get FontBBox from font descriptor because None cannot be parsed as 4 floats (pdffont.py:967)\n",
      "Could get FontBBox from font descriptor because None cannot be parsed as 4 floats (pdffont.py:967)\n",
      "Could get FontBBox from font descriptor because None cannot be parsed as 4 floats (pdffont.py:967)\n",
      "Anonymized telemetry enabled. See                     https://docs.trychroma.com/telemetry for more information. (posthog.py:22)\n",
      "Embedder Agent Output:\n"
     ]
    },
    {
     "data": {
      "text/plain": [
       "{'success': True, 'message': 'VectorDB created successfully'}"
      ]
     },
     "execution_count": 15,
     "metadata": {},
     "output_type": "execute_result"
    }
   ],
   "source": [
    "# Invoke the graph\n",
    "embedder_input=EmbedderInput(\n",
    "    file_path=\"temp/Coding-Round-Task.pdf\",\n",
    "    vector_db_path=\"DATA/vector_db\"\n",
    ")\n",
    "\n",
    "# Create initial state from input\n",
    "initial_state = EmbederState(**embedder_input)\n",
    "\n",
    "# Invoke the embedder graph\n",
    "result_state = graph.invoke(initial_state)\n",
    "\n",
    "print(\"Embedder Agent Output:\")\n",
    "result_state"
   ]
  },
  {
   "cell_type": "code",
   "execution_count": null,
   "id": "3dd61cb8",
   "metadata": {},
   "outputs": [],
   "source": [
    "# Invoke the graph\n",
    "embedder_input=EmbedderInput(\n",
    "    file_path=\"temp/presentation-batch-17.pptx\",\n",
    "    vector_db_path=\"temp/vector_db\"\n",
    ")\n",
    "\n",
    "# Create initial state from input\n",
    "#initial_state = EmbederState(**embedder_input)\n",
    "\n",
    "# Invoke the embedder graph\n",
    "#result_state = graph.invoke(initial_state)\n",
    "\n",
    "#print(\"Embedder Agent Output:\")\n",
    "#result_state"
   ]
  },
  {
   "cell_type": "code",
   "execution_count": null,
   "id": "4c306c3f",
   "metadata": {},
   "outputs": [],
   "source": [
    "# Invoke the graph\n",
    "embedder_input=EmbedderInput(\n",
    "    file_path=\"temp/heart-disease.csv\",\n",
    "    vector_db_path=\"temp/vector_db\"\n",
    ")\n",
    "\n",
    "# Create initial state from input\n",
    "#initial_state = EmbederState(**embedder_input)\n",
    "\n",
    "# Invoke the embedder graph\n",
    "#result_state = graph.invoke(initial_state)\n",
    "\n",
    "#print(\"Embedder Agent Output:\")\n",
    "#result_state"
   ]
  },
  {
   "cell_type": "code",
   "execution_count": null,
   "id": "0212669c",
   "metadata": {},
   "outputs": [],
   "source": [
    "# Invoke the graph\n",
    "embedder_input=EmbedderInput(\n",
    "    file_path=\"temp/HyperSpectral Imaging Guide.docx\",\n",
    "    vector_db_path=\"temp/vector_db\"\n",
    ")\n",
    "\n",
    "# Create initial state from input\n",
    "#initial_state = EmbederState(**embedder_input)\n",
    "\n",
    "# Invoke the embedder graph\n",
    "#result_state = graph.invoke(initial_state)\n",
    "\n",
    "#print(\"Embedder Agent Output:\")\n",
    "#result_state"
   ]
  },
  {
   "cell_type": "code",
   "execution_count": null,
   "id": "58c8a317",
   "metadata": {},
   "outputs": [],
   "source": [
    "# Invoke the graph\n",
    "embedder_input=EmbedderInput(\n",
    "    file_path=\"temp/README.md\",\n",
    "    vector_db_path=\"temp/vector_db\"\n",
    ")\n",
    "\n",
    "# Create initial state from input\n",
    "#initial_state = EmbederState(**embedder_input)\n",
    "\n",
    "# Invoke the embedder graph\n",
    "#result_state = graph.invoke(initial_state)\n",
    "\n",
    "#print(\"Embedder Agent Output:\")\n",
    "#result_state"
   ]
  },
  {
   "cell_type": "markdown",
   "id": "e4f4ce2c",
   "metadata": {},
   "source": [
    "## Retriever Agent"
   ]
  },
  {
   "cell_type": "code",
   "execution_count": 16,
   "id": "8f9c6f43",
   "metadata": {},
   "outputs": [],
   "source": [
    "class RetrieverInput(TypedDict):\n",
    "    vector_db_path: str\n",
    "    retriever_path: str\n",
    "    query: str\n",
    "    \n",
    "class RetrieverOutput(TypedDict):\n",
    "    results: List[Document]"
   ]
  },
  {
   "cell_type": "code",
   "execution_count": 17,
   "id": "cbd713a5",
   "metadata": {},
   "outputs": [],
   "source": [
    "# Check if vector DB exists and is non-empty\n",
    "def check_vector_db(state: RetrieverState)-> RetrieverState:\n",
    "    \"\"\"Check if the vector DB exists and is non-empty.\"\"\"\n",
    "    path = state.vector_db_path\n",
    "    state.vector_db_ready = os.path.exists(path) and bool(os.listdir(path))\n",
    "    return state"
   ]
  },
  {
   "cell_type": "code",
   "execution_count": 18,
   "id": "f2fe7372",
   "metadata": {},
   "outputs": [],
   "source": [
    "# Load vectorDB and create retriever\n",
    "\n",
    "# External cache for retriever instances keyed by retriever_path\n",
    "retriever_cache = {}\n",
    "\n",
    "def create_retriever(state: RetrieverState)-> RetrieverState:\n",
    "    if not state.vector_db_ready:\n",
    "        raise FileNotFoundError(f\" VectorDB not found or empty at {state.vector_db_path}\")\n",
    "    \n",
    "    if state.retriever_path not in retriever_cache:\n",
    "        embeddings = GoogleGenerativeAIEmbeddings(model=\"models/text-embedding-004\")\n",
    "        vector_db=Chroma(\n",
    "            persist_directory=state.vector_db_path, \n",
    "            embedding_function=embeddings\n",
    "        )\n",
    "        retriever_cache[state.retriever_path] = vector_db.as_retriever()\n",
    "    \n",
    "    state.retriever_ready = True\n",
    "    return state\n",
    "\n",
    "    "
   ]
  },
  {
   "cell_type": "code",
   "execution_count": 19,
   "id": "0f32357f",
   "metadata": {},
   "outputs": [],
   "source": [
    "# Perform retrieval based on query\n",
    "def retrieve(state: RetrieverState)-> RetrieverState:\n",
    "    if not state.retriever_ready:\n",
    "        raise RuntimeError(\"Retriever not ready\")\n",
    "    \n",
    "    retriever = retriever_cache.get(state.retriever_path)\n",
    "    if retriever is None:\n",
    "        raise RuntimeError(\"Retriever instance missing\")\n",
    "    \n",
    "    state.results = retriever.get_relevant_documents(state.query)\n",
    "    return state"
   ]
  },
  {
   "cell_type": "code",
   "execution_count": 20,
   "id": "6c47a143",
   "metadata": {},
   "outputs": [],
   "source": [
    "# Finalize and return MCP output\n",
    "def finalize(state: RetrieverState) -> RetrieverOutput:\n",
    "    return {\"results\": state.results}"
   ]
  },
  {
   "cell_type": "code",
   "execution_count": 21,
   "id": "15c24453",
   "metadata": {},
   "outputs": [
    {
     "data": {
      "image/png": "[encoded data removed]",
      "text/plain": [
       "<langgraph.graph.state.CompiledStateGraph object at 0x130833ee0>"
      ]
     },
     "execution_count": 21,
     "metadata": {},
     "output_type": "execute_result"
    }
   ],
   "source": [
    "# Build the retriever graph\n",
    "builder = StateGraph(RetrieverState, input_schema=RetrieverInput, output_schema=RetrieverOutput)\n",
    "\n",
    "builder.add_node(\"check_db\", check_vector_db)\n",
    "builder.add_node(\"load_retriever\", create_retriever)\n",
    "builder.add_node(\"search\", retrieve)\n",
    "builder.add_node(\"finalize\", finalize)\n",
    "\n",
    "builder.add_edge(START, \"check_db\")\n",
    "builder.add_conditional_edges(\n",
    "    \"check_db\",\n",
    "    lambda state: \"load_retriever\" if state.vector_db_ready else \"finalize\",\n",
    "    {\n",
    "        \"load_retriever\": \"load_retriever\",\n",
    "        \"finalize\": \"finalize\",\n",
    "    },\n",
    ")\n",
    "builder.add_edge(\"load_retriever\", \"search\")\n",
    "builder.add_edge(\"search\", \"finalize\")\n",
    "builder.add_edge(\"finalize\", END)\n",
    "\n",
    "retriever_graph = builder.compile()\n",
    "retriever_graph"
   ]
  },
  {
   "cell_type": "markdown",
   "id": "f32d48da",
   "metadata": {},
   "source": [
    "## Testing the Retriever Agent"
   ]
  },
  {
   "cell_type": "code",
   "execution_count": 22,
   "id": "0438c9a7",
   "metadata": {},
   "outputs": [
    {
     "name": "stderr",
     "output_type": "stream",
     "text": [
      "/var/folders/vm/62zyvxyx70qb5rrghd3vfnx80000gn/T/ipykernel_87055/642640264.py:12: LangChainDeprecationWarning: The class `Chroma` was deprecated in LangChain 0.2.9 and will be removed in 1.0. An updated version of the class exists in the :class:`~langchain-chroma package and should be used instead. To use it run `pip install -U :class:`~langchain-chroma` and import as `from :class:`~langchain_chroma import Chroma``.\n",
      "  vector_db=Chroma(\n",
      "/var/folders/vm/62zyvxyx70qb5rrghd3vfnx80000gn/T/ipykernel_87055/1255622377.py:10: LangChainDeprecationWarning: The method `BaseRetriever.get_relevant_documents` was deprecated in langchain-core 0.1.46 and will be removed in 1.0. Use :meth:`~invoke` instead.\n",
      "  state.results = retriever.get_relevant_documents(state.query)\n"
     ]
    },
    {
     "name": "stdout",
     "output_type": "stream",
     "text": [
      "Retriever Agent Output:\n",
      "{'results': [Document(metadata={'page': 1, 'source': 'temp/Coding-Round-Task.pdf', 'total_pages': 3, 'Producer': 'Skia/PDF m139 Google Docs Renderer', 'Title': 'Coding Round Task', 'file_path': 'temp/Coding-Round-Task.pdf'}, page_content='○ You can implement MCP using in-memory messaging, REST, or pub/sub.\\n4. Vector Store + Embeddings\\n○ Use any embeddings (OpenAI, HuggingFace, etc.)\\n○ Use a vector DB (FAISS, Chroma, etc.)\\n5. Chatbot Interface (UI)\\n○ Allow users to:\\n■ Upload documents\\n■ Ask multi-turn questions\\n■ View responses with source context\\n○ Use any UI framework: Streamlit, React, Angular, Flask, etc.\\n📸 Deliverables\\n1. 📁 GitHub Repository\\n○ Include:\\n■ Well-organized code\\n■ Clear README.md with setup instructions\\n2. 📊 PPT Presentation\\n○ Slide deck (3–6 slides) must include:\\n■ Agent-based architecture with MCP integration\\n■ System flow diagram (with message passing)\\n■ Tech stack used\\n■ 📸 UI screenshots of working app\\n■ Challenges Faced while doing the project\\n■ (Optional) future scope / improvements\\n3. 🔗 Submission\\n○ Share:\\n■ Public GitHub repository link\\n■ Architecture PPT (PDF or PPTX) [ To be included in the GitRepo Itself]\\n■ Include a Video for 5 mins where 1 min give the application demo, 2 min'), Document(metadata={'page': 0, 'source': 'temp/Coding-Round-Task.pdf', 'file_path': 'temp/Coding-Round-Task.pdf', 'total_pages': 3, 'Title': 'Coding Round Task', 'Producer': 'Skia/PDF m139 Google Docs Renderer'}, page_content='Coding Round Problem Statement\\nTask Title:\\nAgentic RAG Chatbot for Multi-Format Document QA using Model Context Protocol\\n(MCP)\\nProblem Statement:\\nYou are required to build an agent-based Retrieval-Augmented Generation (RAG) chatbot\\nthat can answer user questions using uploaded documents of various formats. Your architecture\\nmust follow an agentic structure and should incorporate Model Context Protocol (MCP) as\\nthe mechanism for communication between agents and/or agents ↔ LLMs.\\nCore Functional Requirements\\nYour solution must:\\n1. Support Uploading & Parsing of Diverse Document Formats:\\n○ ✅ PDF\\n○ ✅ PPTX\\n○ ✅ CSV\\n○ ✅ DOCX\\n○ ✅ TXT / Markdown\\n2. Agentic Architecture (minimum 3 agents):\\n○ IngestionAgent: Parses & preprocesses documents.\\n○ RetrievalAgent: Handles embedding + semantic retrieval.\\n○ LLMResponseAgent: Forms final LLM query using retrieved context and generates\\nanswer.\\n3. Use Model Context Protocol (MCP):\\n○ Each agent must send/receive messages using structured MCP-like context'), Document(metadata={'page': 1, 'Producer': 'Skia/PDF m139 Google Docs Renderer', 'file_path': 'temp/Coding-Round-Task.pdf', 'total_pages': 3, 'Title': 'Coding Round Task', 'source': 'temp/Coding-Round-Task.pdf'}, page_content='○ Share:\\n■ Public GitHub repository link\\n■ Architecture PPT (PDF or PPTX) [ To be included in the GitRepo Itself]\\n■ Include a Video for 5 mins where 1 min give the application demo, 2 min\\narchitecture and flow explanation, 2 min code explanation. (Its optional to\\nshow face)\\n🧠 Sample Workflow (Message Passing with MCP)\\nUser uploads: sales_review.pdf, metrics.csv\\nUser: \"What KPIs were tracked in Q1?\"\\n➡\\nUI forwards to CoordinatorAgent\\n➡\\nCoordinator triggers:\\n🔸\\nIngestionAgent → parses documents\\n🔸\\nRetrievalAgent → finds relevant chunks\\n🔸\\nLLMResponseAgent → formats prompt & calls LLM\\n➡\\nChatbot shows answer + source chunks'), Document(metadata={'file_path': 'temp/Coding-Round-Task.pdf', 'Title': 'Coding Round Task', 'page': 0, 'source': 'temp/Coding-Round-Task.pdf', 'total_pages': 3, 'Producer': 'Skia/PDF m139 Google Docs Renderer'}, page_content='○ LLMResponseAgent: Forms final LLM query using retrieved context and generates\\nanswer.\\n3. Use Model Context Protocol (MCP):\\n○ Each agent must send/receive messages using structured MCP-like context\\nobjects, such as:\\n{\\n\"sender\": \"RetrievalAgent\",\\n\"receiver\": \"LLMResponseAgent\",\\n\"type\": \"CONTEXT_RESPONSE\",\\n\"trace_id\": \"abc-123\",\\n\"payload\": {\\n\"top_chunks\": [\"...\", \"...\"],\\n\"query\": \"What are the KPIs?\"\\n}\\n}')]}\n",
      "○ You can implement MCP using in-memory messaging, REST, or pub/sub.\n",
      "4. Vector Store + Embeddings\n",
      "○ Use any embeddings (OpenAI, HuggingFace, etc.)\n",
      "○ Use a vector DB (FAISS, Chroma, etc.)\n",
      "5. Chatbot Interface (UI)\n",
      "○ Allow users to:\n",
      "■ Upload documents\n",
      "■ Ask multi-turn questions\n",
      "■ View responses with source context\n",
      "○ Use any UI framework: Streamlit, React, Angular, Flask, etc.\n",
      "📸 Deliverables\n",
      "1. 📁 GitHub Repository\n",
      "○ Include:\n",
      "■ Well-organized code\n",
      "■ Clear README.md with setup instructions\n",
      "2. 📊 PPT Presentation\n",
      "○ Slide deck (3–6 slides) must include:\n",
      "■ Agent-based architecture with MCP integration\n",
      "■ System flow diagram (with message passing)\n",
      "■ Tech stack used\n",
      "■ 📸 UI screenshots of working app\n",
      "■ Challenges Faced while doing the project\n",
      "■ (Optional) future scope / improvements\n",
      "3. 🔗 Submission\n",
      "○ Share:\n",
      "■ Public GitHub repository link\n",
      "■ Architecture PPT (PDF or PPTX) [ To be included in the GitRepo Itself]\n",
      "■ Include a Video for 5 mins where 1 min give the application demo, 2 min\n",
      "Coding Round Problem Statement\n",
      "Task Title:\n",
      "Agentic RAG Chatbot for Multi-Format Document QA using Model Context Protocol\n",
      "(MCP)\n",
      "Problem Statement:\n",
      "You are required to build an agent-based Retrieval-Augmented Generation (RAG) chatbot\n",
      "that can answer user questions using uploaded documents of various formats. Your architecture\n",
      "must follow an agentic structure and should incorporate Model Context Protocol (MCP) as\n",
      "the mechanism for communication between agents and/or agents ↔ LLMs.\n",
      "Core Functional Requirements\n",
      "Your solution must:\n",
      "1. Support Uploading & Parsing of Diverse Document Formats:\n",
      "○ ✅ PDF\n",
      "○ ✅ PPTX\n",
      "○ ✅ CSV\n",
      "○ ✅ DOCX\n",
      "○ ✅ TXT / Markdown\n",
      "2. Agentic Architecture (minimum 3 agents):\n",
      "○ IngestionAgent: Parses & preprocesses documents.\n",
      "○ RetrievalAgent: Handles embedding + semantic retrieval.\n",
      "○ LLMResponseAgent: Forms final LLM query using retrieved context and generates\n",
      "answer.\n",
      "3. Use Model Context Protocol (MCP):\n",
      "○ Each agent must send/receive messages using structured MCP-like context\n",
      "○ Share:\n",
      "■ Public GitHub repository link\n",
      "■ Architecture PPT (PDF or PPTX) [ To be included in the GitRepo Itself]\n",
      "■ Include a Video for 5 mins where 1 min give the application demo, 2 min\n",
      "architecture and flow explanation, 2 min code explanation. (Its optional to\n",
      "show face)\n",
      "🧠 Sample Workflow (Message Passing with MCP)\n",
      "User uploads: sales_review.pdf, metrics.csv\n",
      "User: \"What KPIs were tracked in Q1?\"\n",
      "➡\n",
      "UI forwards to CoordinatorAgent\n",
      "➡\n",
      "Coordinator triggers:\n",
      "🔸\n",
      "IngestionAgent → parses documents\n",
      "🔸\n",
      "RetrievalAgent → finds relevant chunks\n",
      "🔸\n",
      "LLMResponseAgent → formats prompt & calls LLM\n",
      "➡\n",
      "Chatbot shows answer + source chunks\n",
      "○ LLMResponseAgent: Forms final LLM query using retrieved context and generates\n",
      "answer.\n",
      "3. Use Model Context Protocol (MCP):\n",
      "○ Each agent must send/receive messages using structured MCP-like context\n",
      "objects, such as:\n",
      "{\n",
      "\"sender\": \"RetrievalAgent\",\n",
      "\"receiver\": \"LLMResponseAgent\",\n",
      "\"type\": \"CONTEXT_RESPONSE\",\n",
      "\"trace_id\": \"abc-123\",\n",
      "\"payload\": {\n",
      "\"top_chunks\": [\"...\", \"...\"],\n",
      "\"query\": \"What are the KPIs?\"\n",
      "}\n",
      "}\n"
     ]
    }
   ],
   "source": [
    "# Prepare input\n",
    "retriever_input = RetrieverInput(\n",
    "    vector_db_path=\"DATA/vector_db\",\n",
    "    retriever_path=\"DATA/retriever\",\n",
    "    query=\"What is the problem statement?\"\n",
    ")\n",
    "\n",
    "# Create initial state from input\n",
    "initial_state = RetrieverState(\n",
    "    vector_db_path=retriever_input[\"vector_db_path\"],\n",
    "    retriever_path=retriever_input[\"retriever_path\"],\n",
    "    query=retriever_input[\"query\"],\n",
    "    retriever_ready=False,\n",
    "    results=[]\n",
    ")\n",
    "\n",
    "# Invoke the retriever graph\n",
    "result_state = retriever_graph.invoke(initial_state)\n",
    "\n",
    "# Print final output (RetrieverOutput)\n",
    "print(\"Retriever Agent Output:\")\n",
    "print(result_state)  # This will be RetrieverOutput TypedDict if finalize node returns it\n",
    "\n",
    "# To print retrieved documents content:\n",
    "for doc in result_state.get(\"results\", []):\n",
    "    print(doc.page_content)"
   ]
  },
  {
   "cell_type": "code",
   "execution_count": null,
   "id": "3fbe3cbd",
   "metadata": {},
   "outputs": [],
   "source": [
    "import asyncio\n",
    "from langchain_mcp_adapters.client import MultiServerMCPClient\n",
    "\n",
    "async def main():\n",
    "    # Initialize MCP client with embedder and retriever agent endpoints\n",
    "    client = MultiServerMCPClient({\n",
    "        \"embedder\": {\n",
    "            \"url\": \"https://your-embedder-agent/mcp\",\n",
    "            \"transport\": \"streamable_http\",\n",
    "        },\n",
    "        \"retriever\": {\n",
    "            \"url\": \"https://your-retriever-agent/mcp\",\n",
    "            \"transport\": \"streamable_http\",\n",
    "        }\n",
    "    })\n",
    "\n",
    "    try:\n",
    "        # Fetch available tools from MCP servers\n",
    "        tools = await client.get_tools()\n",
    "\n",
    "        # Invoke embedder agent tool with file and vector DB path\n",
    "        embedder_tool = tools.get(\"embedder\")\n",
    "        if embedder_tool is None:\n",
    "            raise RuntimeError(\"Embedder tool not found in MCP client\")\n",
    "\n",
    "        embed_response = await embedder_tool.invoke({\n",
    "            \"file_path\": \"temp/Coding-Round-Task.pdf\",\n",
    "            \"vector_db_path\": \"temp/vector_db\"\n",
    "        })\n",
    "        print(\"Embedder response:\", embed_response)\n",
    "\n",
    "        # Check embedder success before proceeding\n",
    "        if not embed_response.get(\"success\", False):\n",
    "            print(\"Embedding failed, aborting retrieval\")\n",
    "            return\n",
    "\n",
    "        # Invoke retriever agent tool with vector DB path and query\n",
    "        retriever_tool = tools.get(\"retriever\")\n",
    "        if retriever_tool is None:\n",
    "            raise RuntimeError(\"Retriever tool not found in MCP client\")\n",
    "\n",
    "        retriever_response = await retriever_tool.invoke({\n",
    "            \"vector_db_path\": \"temp/vector_db\",\n",
    "            \"query\": \"What is LangChain?\"\n",
    "        })\n",
    "        print(\"Retriever results:\", retriever_response)\n",
    "\n",
    "    except Exception as e:\n",
    "        print(f\"Error during MCP client operations: {e}\")\n",
    "\n",
    "if __name__ == \"__main__\":\n",
    "    asyncio.run(main())\n"
   ]
  }
 ],
 "metadata": {
  "kernelspec": {
   "display_name": "RAGEnv",
   "language": "python",
   "name": "python3"
  },
  "language_info": {
   "codemirror_mode": {
    "name": "ipython",
    "version": 3
   },
   "file_extension": ".py",
   "mimetype": "text/x-python",
   "name": "python",
   "nbconvert_exporter": "python",
   "pygments_lexer": "ipython3",
   "version": "3.10.18"
  }
 },
 "nbformat": 4,
 "nbformat_minor": 5
}
